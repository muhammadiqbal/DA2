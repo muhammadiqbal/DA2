{
 "cells": [
  {
   "cell_type": "code",
   "execution_count": 4,
   "metadata": {},
   "outputs": [
    {
     "ename": "SyntaxError",
     "evalue": "Missing parentheses in call to 'print' (<ipython-input-4-2cddd76df66c>, line 57)",
     "output_type": "error",
     "traceback": [
      "\u001b[0;36m  File \u001b[0;32m\"<ipython-input-4-2cddd76df66c>\"\u001b[0;36m, line \u001b[0;32m57\u001b[0m\n\u001b[0;31m    print \"Model paramters:\"\u001b[0m\n\u001b[0m                           ^\u001b[0m\n\u001b[0;31mSyntaxError\u001b[0m\u001b[0;31m:\u001b[0m Missing parentheses in call to 'print'\n"
     ]
    }
   ],
   "source": [
    "%matplotlib inline\n",
    "import numpy as np \n",
    "import tensorflow as tf\n",
    "import matplotlib.pyplot as plt\n",
    "\n",
    "\n",
    "#input data:\n",
    "x_input=np.linspace(0,3,1000)\n",
    "x1=x_input/np.max(x_input)\n",
    "x2=np.power(x_input,2)/np.max(np.power(x_input,2))\n",
    "y_input=5*x1-3*x2\n",
    "y_input= y_input.reshape((y_input.size, 1))\n",
    "\n",
    "#model parameters\n",
    "#order of polynomial \n",
    "n=2\n",
    "W = tf.Variable(tf.random_normal([n,1]), name='weight')\n",
    "#bias\n",
    "b = tf.Variable(tf.random_normal([1]), name='bias')\n",
    "\n",
    "#X=tf.placeholder(tf.float32,shape=(None,2))\n",
    "X=tf.placeholder(tf.float32,shape=[None,n])\n",
    "Y=tf.placeholder(tf.float32,shape=[None, 1])\n",
    "\n",
    "\n",
    "#preparing the data\n",
    "def modify_input(x,x_size,n_value):\n",
    "   x_new=np.zeros([x_size,n_value])    \n",
    "   for i in range(n):\n",
    "      x_new[:,i]=np.power(x,(i+1))\n",
    "      x_new[:,i]=x_new[:,i]/np.max(x_new[:,i])\n",
    "   return x_new\n",
    " \n",
    "\n",
    "#model\n",
    "x_modified=modify_input(x_input,x_input.size,n)\n",
    "Y_pred=tf.add(tf.matmul(X,W),b)\n",
    "\n",
    "#algortihm\n",
    "loss = tf.reduce_mean(tf.square(Y_pred -Y ))\n",
    "#training algorithm\n",
    "optimizer = tf.train.GradientDescentOptimizer(0.05).minimize(loss)\n",
    "#initializing the variables\n",
    "init = tf.initialize_all_variables()\n",
    "\n",
    "#starting the session session \n",
    "sess = tf.Session()\n",
    "sess.run(init)\n",
    "\n",
    "epoch=12000\n",
    "\n",
    "for step in xrange(epoch):     \n",
    "     _, c=sess.run([optimizer, loss], feed_dict={X: x_modified, Y: y_input})\n",
    "     if step%1000==0 :\n",
    "       print (c)\n",
    "\n",
    "print \"Model paramters:\"       \n",
    "print  sess.run(W)\n",
    "print \"bias:%f\" %sess.run(b)\n",
    "# comparing our model \n",
    "y_test=sess.run(Y_pred, feed_dict={X:x_modified})\n",
    "plt.plot(x_input,y_input,x_input, y_test)\n",
    "plt.show()\n"
   ]
  },
  {
   "cell_type": "code",
   "execution_count": null,
   "metadata": {},
   "outputs": [],
   "source": []
  }
 ],
 "metadata": {
  "kernelspec": {
   "display_name": "Python 3",
   "language": "python",
   "name": "python3"
  },
  "language_info": {
   "codemirror_mode": {
    "name": "ipython",
    "version": 3
   },
   "file_extension": ".py",
   "mimetype": "text/x-python",
   "name": "python",
   "nbconvert_exporter": "python",
   "pygments_lexer": "ipython3",
   "version": "3.5.2"
  }
 },
 "nbformat": 4,
 "nbformat_minor": 2
}
