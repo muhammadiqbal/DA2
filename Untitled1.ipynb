{
 "cells": [
  {
   "cell_type": "code",
   "execution_count": null,
   "metadata": {
    "scrolled": false
   },
   "outputs": [],
   "source": [
    "import json\n",
    "import requests\n",
    "import csv\n",
    "\n",
    "data = {}\n",
    "data = json.dumps(data)\n",
    "token = \"2fad3ffb3f654b17a3d60ccad6ddc26d\"\n",
    "url4D = \"http://optim.uni-muenster.de:5000/api-test4D/\"+token+\"/0.4,0.1,0.06,0.2;0.2,0.3,0.6,0.2\"\n",
    "url2D = \"http://optim.uni-muenster.de:5000/api-test2D/\"+token\n",
    "headers = {'Content-Type': 'application/json'}\n",
    "\n",
    "for x in range(0,10):\n",
    "    for y in range(0,10):\n",
    "        for x2 in range(0,10):\n",
    "            for y2 in range(0,10):\n",
    "                url = url2D+\"/\"+str(x/10)+\",\"+str(y/10)+\";\"+str(x2/10)+\",\"+str(y2/10)\n",
    "                #print(url)\n",
    "                response = requests.get(url,headers=headers)\n",
    "                restResponse = json.loads(response.content.decode('utf-8'))\n",
    "                #print(restResponse)\n",
    "                #data.append(restResponse)\n",
    "                file = csv.writer(open(\"data.csv\", \"a+\"), delimiter=';')\n",
    "                file.writerow([str(x/10),str(y/10), str(x2/10),(y2/10), restResponse[\"data\"]])\n",
    "print(\"done!\")"
   ]
  },
  {
   "cell_type": "code",
   "execution_count": null,
   "metadata": {},
   "outputs": [],
   "source": []
  },
  {
   "cell_type": "code",
   "execution_count": null,
   "metadata": {},
   "outputs": [],
   "source": []
  },
  {
   "cell_type": "code",
   "execution_count": null,
   "metadata": {},
   "outputs": [],
   "source": []
  }
 ],
 "metadata": {
  "kernelspec": {
   "display_name": "Python 3",
   "language": "python",
   "name": "python3"
  },
  "language_info": {
   "codemirror_mode": {
    "name": "ipython",
    "version": 3
   },
   "file_extension": ".py",
   "mimetype": "text/x-python",
   "name": "python",
   "nbconvert_exporter": "python",
   "pygments_lexer": "ipython3",
   "version": "3.5.2"
  }
 },
 "nbformat": 4,
 "nbformat_minor": 2
}
